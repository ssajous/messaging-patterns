{
 "cells": [
  {
   "cell_type": "markdown",
   "id": "85f92d67-bf52-4cd9-893e-72330e3655ac",
   "metadata": {},
   "source": [
    "# Pub/Sub Publisher"
   ]
  },
  {
   "cell_type": "code",
   "execution_count": null,
   "id": "9e601cae-7d58-40ba-8934-47aa2f4cc531",
   "metadata": {},
   "outputs": [],
   "source": []
  }
 ],
 "metadata": {
  "kernelspec": {
   "display_name": "Python 3 (ipykernel)",
   "language": "python",
   "name": "python3"
  },
  "language_info": {
   "codemirror_mode": {
    "name": "ipython",
    "version": 3
   },
   "file_extension": ".py",
   "mimetype": "text/x-python",
   "name": "python",
   "nbconvert_exporter": "python",
   "pygments_lexer": "ipython3",
   "version": "3.9.10"
  }
 },
 "nbformat": 4,
 "nbformat_minor": 5
}
