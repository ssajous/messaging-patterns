{
 "cells": [
  {
   "cell_type": "markdown",
   "id": "4ef83a44-280b-47f1-bb32-34b744a7a33f",
   "metadata": {},
   "source": [
    "# Work Queue Worker 2"
   ]
  },
  {
   "cell_type": "code",
   "execution_count": 1,
   "id": "a5f92a22-12ec-4ec5-9c8d-87e14eb7c078",
   "metadata": {},
   "outputs": [],
   "source": [
    "from worker import start_work"
   ]
  },
  {
   "cell_type": "code",
   "execution_count": null,
   "id": "49061d10-203e-46e4-8eaf-cd9d765414af",
   "metadata": {},
   "outputs": [
    {
     "name": "stdout",
     "output_type": "stream",
     "text": [
      " [x] Received 'Work message # 102'\n",
      " [x] Received 'Work message # 104'\n",
      " [x] Received 'Work message # 107'\n",
      " [x] Received 'Work message # 110'\n",
      " [x] Received 'Work message # 113'\n",
      " [x] Received 'Work message # 116'\n",
      " [x] Received 'Work message # 119'\n",
      " [x] Received 'Work message # 122'\n",
      " [x] Received 'Work message # 125'\n",
      " [x] Received 'Work message # 128'\n",
      " [x] Received 'Work message # 131'\n",
      " [x] Received 'Work message # 134'\n",
      " [x] Received 'Work message # 137'\n",
      " [x] Received 'Work message # 140'\n",
      " [x] Received 'Work message # 143'\n",
      " [x] Received 'Work message # 146'\n",
      " [x] Received 'Work message # 149'\n",
      " [x] Received 'Work message # 152'\n",
      " [x] Received 'Work message # 155'\n",
      " [x] Received 'Work message # 158'\n",
      " [x] Received 'Work message # 161'\n",
      " [x] Received 'Work message # 164'\n",
      " [x] Received 'Work message # 167'\n",
      " [x] Received 'Work message # 170'\n",
      " [x] Received 'Work message # 173'\n",
      " [x] Received 'Work message # 176'\n",
      " [x] Received 'Work message # 179'\n",
      " [x] Received 'Work message # 182'\n",
      " [x] Received 'Work message # 185'\n",
      " [x] Received 'Work message # 188'\n",
      " [x] Received 'Work message # 191'\n",
      " [x] Received 'Work message # 194'\n",
      " [x] Received 'Work message # 197'\n",
      " [x] Received 'Work message # 201'\n",
      " [x] Received 'Work message # 205'\n",
      " [x] Received 'Work message # 208'\n",
      " [x] Received 'Work message # 209'\n",
      " [x] Received 'Work message # 212'\n",
      " [x] Received 'Work message # 215'\n",
      " [x] Received 'Work message # 220'\n",
      " [x] Received 'Work message # 223'\n",
      " [x] Received 'Work message # 225'\n",
      " [x] Received 'Work message # 227'\n",
      " [x] Received 'Work message # 230'\n",
      " [x] Received 'Work message # 234'\n",
      " [x] Received 'Work message # 237'\n",
      " [x] Received 'Work message # 241'\n",
      " [x] Received 'Work message # 242'\n",
      " [x] Received 'Work message # 246'\n",
      " [x] Received 'Work message # 249'\n",
      " [x] Received 'Work message # 251'\n",
      " [x] Received 'Work message # 256'\n",
      " [x] Received 'Work message # 258'\n",
      " [x] Received 'Work message # 261'\n",
      " [x] Received 'Work message # 263'\n",
      " [x] Received 'Work message # 267'\n",
      " [x] Received 'Work message # 269'\n",
      " [x] Received 'Work message # 272'\n",
      " [x] Received 'Work message # 275'\n",
      " [x] Received 'Work message # 279'\n",
      " [x] Received 'Work message # 282'\n",
      " [x] Received 'Work message # 284'\n",
      " [x] Received 'Work message # 287'\n",
      " [x] Received 'Work message # 291'\n",
      " [x] Received 'Work message # 294'\n",
      " [x] Received 'Work message # 296'\n",
      " [x] Received 'Work message # 299'\n",
      " [x] Received 'Work message # 303'\n",
      " [x] Received 'Work message # 306'\n",
      " [x] Received 'Work message # 309'\n"
     ]
    }
   ],
   "source": [
    "start_work()"
   ]
  },
  {
   "cell_type": "code",
   "execution_count": null,
   "id": "b04e2fd3-2a37-4fd0-a29e-ffaa123578fb",
   "metadata": {},
   "outputs": [],
   "source": []
  }
 ],
 "metadata": {
  "kernelspec": {
   "display_name": "Python 3 (ipykernel)",
   "language": "python",
   "name": "python3"
  },
  "language_info": {
   "codemirror_mode": {
    "name": "ipython",
    "version": 3
   },
   "file_extension": ".py",
   "mimetype": "text/x-python",
   "name": "python",
   "nbconvert_exporter": "python",
   "pygments_lexer": "ipython3",
   "version": "3.9.10"
  }
 },
 "nbformat": 4,
 "nbformat_minor": 5
}
