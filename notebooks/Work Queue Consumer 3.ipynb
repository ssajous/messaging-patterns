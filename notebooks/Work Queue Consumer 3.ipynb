{
 "cells": [
  {
   "cell_type": "markdown",
   "id": "e5e8df19-c355-4f26-a6eb-879c7b5be1cc",
   "metadata": {},
   "source": [
    "# Work Queue Worker 3"
   ]
  },
  {
   "cell_type": "code",
   "execution_count": 1,
   "id": "1d8b368a-f66b-4b75-b307-131dc928707c",
   "metadata": {},
   "outputs": [],
   "source": [
    "from worker import start_work"
   ]
  },
  {
   "cell_type": "code",
   "execution_count": null,
   "id": "9482c158-b9a7-4bad-ae39-fe29b91d553c",
   "metadata": {},
   "outputs": [
    {
     "name": "stdout",
     "output_type": "stream",
     "text": [
      " [x] Received 'Work message # 106'\n",
      " [x] Received 'Work message # 109'\n",
      " [x] Received 'Work message # 112'\n",
      " [x] Received 'Work message # 115'\n",
      " [x] Received 'Work message # 118'\n",
      " [x] Received 'Work message # 121'\n",
      " [x] Received 'Work message # 124'\n",
      " [x] Received 'Work message # 127'\n",
      " [x] Received 'Work message # 130'\n",
      " [x] Received 'Work message # 133'\n",
      " [x] Received 'Work message # 136'\n",
      " [x] Received 'Work message # 139'\n",
      " [x] Received 'Work message # 142'\n",
      " [x] Received 'Work message # 145'\n",
      " [x] Received 'Work message # 148'\n",
      " [x] Received 'Work message # 151'\n",
      " [x] Received 'Work message # 154'\n",
      " [x] Received 'Work message # 157'\n",
      " [x] Received 'Work message # 160'\n",
      " [x] Received 'Work message # 163'\n",
      " [x] Received 'Work message # 166'\n",
      " [x] Received 'Work message # 169'\n",
      " [x] Received 'Work message # 172'\n",
      " [x] Received 'Work message # 175'\n",
      " [x] Received 'Work message # 178'\n",
      " [x] Received 'Work message # 181'\n",
      " [x] Received 'Work message # 184'\n",
      " [x] Received 'Work message # 187'\n",
      " [x] Received 'Work message # 190'\n",
      " [x] Received 'Work message # 193'\n",
      " [x] Received 'Work message # 196'\n",
      " [x] Received 'Work message # 199'\n",
      " [x] Received 'Work message # 200'\n",
      " [x] Received 'Work message # 203'\n",
      " [x] Received 'Work message # 206'\n",
      " [x] Received 'Work message # 211'\n",
      " [x] Received 'Work message # 214'\n",
      " [x] Received 'Work message # 217'\n",
      " [x] Received 'Work message # 218'\n",
      " [x] Received 'Work message # 221'\n",
      " [x] Received 'Work message # 224'\n",
      " [x] Received 'Work message # 228'\n",
      " [x] Received 'Work message # 231'\n",
      " [x] Received 'Work message # 235'\n"
     ]
    }
   ],
   "source": [
    "start_work()"
   ]
  },
  {
   "cell_type": "code",
   "execution_count": null,
   "id": "ad24fe1b-23c0-406a-a0ef-e65939b72355",
   "metadata": {},
   "outputs": [],
   "source": []
  }
 ],
 "metadata": {
  "kernelspec": {
   "display_name": "Python 3 (ipykernel)",
   "language": "python",
   "name": "python3"
  },
  "language_info": {
   "codemirror_mode": {
    "name": "ipython",
    "version": 3
   },
   "file_extension": ".py",
   "mimetype": "text/x-python",
   "name": "python",
   "nbconvert_exporter": "python",
   "pygments_lexer": "ipython3",
   "version": "3.9.10"
  }
 },
 "nbformat": 4,
 "nbformat_minor": 5
}
